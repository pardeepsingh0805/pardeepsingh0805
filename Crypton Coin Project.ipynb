{
 "cells": [
  {
   "cell_type": "code",
   "execution_count": 9,
   "id": "8564f62c",
   "metadata": {
    "collapsed": true
   },
   "outputs": [
    {
     "name": "stdout",
     "output_type": "stream",
     "text": [
      "Requirement already satisfied: pycoingecko in /opt/anaconda3/envs/panda/lib/python3.9/site-packages (2.2.0)\n",
      "Requirement already satisfied: requests in /opt/anaconda3/envs/panda/lib/python3.9/site-packages (from pycoingecko) (2.27.1)\n",
      "Requirement already satisfied: charset-normalizer~=2.0.0 in /opt/anaconda3/envs/panda/lib/python3.9/site-packages (from requests->pycoingecko) (2.0.12)\n",
      "Requirement already satisfied: certifi>=2017.4.17 in /opt/anaconda3/envs/panda/lib/python3.9/site-packages (from requests->pycoingecko) (2021.10.8)\n",
      "Requirement already satisfied: urllib3<1.27,>=1.21.1 in /opt/anaconda3/envs/panda/lib/python3.9/site-packages (from requests->pycoingecko) (1.26.9)\n",
      "Requirement already satisfied: idna<4,>=2.5 in /opt/anaconda3/envs/panda/lib/python3.9/site-packages (from requests->pycoingecko) (3.3)\n",
      "Requirement already satisfied: plotly in /opt/anaconda3/envs/panda/lib/python3.9/site-packages (5.6.0)\n",
      "Requirement already satisfied: tenacity>=6.2.0 in /opt/anaconda3/envs/panda/lib/python3.9/site-packages (from plotly) (8.0.1)\n",
      "Requirement already satisfied: six in /opt/anaconda3/envs/panda/lib/python3.9/site-packages (from plotly) (1.16.0)\n",
      "Requirement already satisfied: mplfinance in /opt/anaconda3/envs/panda/lib/python3.9/site-packages (0.12.8b9)\n",
      "Requirement already satisfied: pandas in /opt/anaconda3/envs/panda/lib/python3.9/site-packages (from mplfinance) (1.4.1)\n",
      "Requirement already satisfied: matplotlib in /opt/anaconda3/envs/panda/lib/python3.9/site-packages (from mplfinance) (3.5.1)\n",
      "Requirement already satisfied: numpy>=1.17 in /opt/anaconda3/envs/panda/lib/python3.9/site-packages (from matplotlib->mplfinance) (1.21.2)\n",
      "Requirement already satisfied: cycler>=0.10 in /opt/anaconda3/envs/panda/lib/python3.9/site-packages (from matplotlib->mplfinance) (0.11.0)\n",
      "Requirement already satisfied: kiwisolver>=1.0.1 in /opt/anaconda3/envs/panda/lib/python3.9/site-packages (from matplotlib->mplfinance) (1.3.2)\n",
      "Requirement already satisfied: pillow>=6.2.0 in /opt/anaconda3/envs/panda/lib/python3.9/site-packages (from matplotlib->mplfinance) (9.0.1)\n",
      "Requirement already satisfied: python-dateutil>=2.7 in /opt/anaconda3/envs/panda/lib/python3.9/site-packages (from matplotlib->mplfinance) (2.8.2)\n",
      "Requirement already satisfied: packaging>=20.0 in /opt/anaconda3/envs/panda/lib/python3.9/site-packages (from matplotlib->mplfinance) (21.3)\n",
      "Requirement already satisfied: fonttools>=4.22.0 in /opt/anaconda3/envs/panda/lib/python3.9/site-packages (from matplotlib->mplfinance) (4.25.0)\n",
      "Requirement already satisfied: pyparsing>=2.2.1 in /opt/anaconda3/envs/panda/lib/python3.9/site-packages (from matplotlib->mplfinance) (3.0.4)\n",
      "Requirement already satisfied: six>=1.5 in /opt/anaconda3/envs/panda/lib/python3.9/site-packages (from python-dateutil>=2.7->matplotlib->mplfinance) (1.16.0)\n",
      "Requirement already satisfied: pytz>=2020.1 in /opt/anaconda3/envs/panda/lib/python3.9/site-packages (from pandas->mplfinance) (2021.3)\n"
     ]
    }
   ],
   "source": [
    "#installing recommended libraries to get stock and coin data \n",
    "\n",
    "!pip install pycoingecko #CoinGecko has been used to get coin market information\n",
    "!pip install plotly\n",
    "!pip install mplfinance"
   ]
  },
  {
   "cell_type": "code",
   "execution_count": 41,
   "id": "d86810e2",
   "metadata": {},
   "outputs": [],
   "source": [
    "import pandas as pd\n",
    "import numpy as np\n",
    "import plotly.graph_objects as go\n",
    "from plotly.offline import plot\n",
    "import matplotlib.pyplot as plt\n",
    "import datetime\n",
    "from pycoingecko import CoinGeckoAPI\n",
    "from mplfinance.original_flavor import candlestick2_ohlc"
   ]
  },
  {
   "cell_type": "code",
   "execution_count": 57,
   "id": "e3b3e772",
   "metadata": {},
   "outputs": [
    {
     "data": {
      "text/html": [
       "<div>\n",
       "<style scoped>\n",
       "    .dataframe tbody tr th:only-of-type {\n",
       "        vertical-align: middle;\n",
       "    }\n",
       "\n",
       "    .dataframe tbody tr th {\n",
       "        vertical-align: top;\n",
       "    }\n",
       "\n",
       "    .dataframe thead th {\n",
       "        text-align: right;\n",
       "    }\n",
       "</style>\n",
       "<table border=\"1\" class=\"dataframe\">\n",
       "  <thead>\n",
       "    <tr style=\"text-align: right;\">\n",
       "      <th></th>\n",
       "      <th>TimeStamp</th>\n",
       "      <th>Price</th>\n",
       "      <th>Date</th>\n",
       "    </tr>\n",
       "  </thead>\n",
       "  <tbody>\n",
       "    <tr>\n",
       "      <th>0</th>\n",
       "      <td>1640387194752</td>\n",
       "      <td>0.241539</td>\n",
       "      <td>2021-12-24</td>\n",
       "    </tr>\n",
       "    <tr>\n",
       "      <th>1</th>\n",
       "      <td>1640390438978</td>\n",
       "      <td>0.240917</td>\n",
       "      <td>2021-12-24</td>\n",
       "    </tr>\n",
       "    <tr>\n",
       "      <th>2</th>\n",
       "      <td>1640394551080</td>\n",
       "      <td>0.243660</td>\n",
       "      <td>2021-12-24</td>\n",
       "    </tr>\n",
       "    <tr>\n",
       "      <th>3</th>\n",
       "      <td>1640397842215</td>\n",
       "      <td>0.241057</td>\n",
       "      <td>2021-12-24</td>\n",
       "    </tr>\n",
       "    <tr>\n",
       "      <th>4</th>\n",
       "      <td>1640401469974</td>\n",
       "      <td>0.241098</td>\n",
       "      <td>2021-12-24</td>\n",
       "    </tr>\n",
       "    <tr>\n",
       "      <th>...</th>\n",
       "      <td>...</td>\n",
       "      <td>...</td>\n",
       "      <td>...</td>\n",
       "    </tr>\n",
       "    <tr>\n",
       "      <th>2156</th>\n",
       "      <td>1648148645842</td>\n",
       "      <td>0.170856</td>\n",
       "      <td>2022-03-24</td>\n",
       "    </tr>\n",
       "    <tr>\n",
       "      <th>2157</th>\n",
       "      <td>1648152179497</td>\n",
       "      <td>0.171296</td>\n",
       "      <td>2022-03-24</td>\n",
       "    </tr>\n",
       "    <tr>\n",
       "      <th>2158</th>\n",
       "      <td>1648155802841</td>\n",
       "      <td>0.170841</td>\n",
       "      <td>2022-03-24</td>\n",
       "    </tr>\n",
       "    <tr>\n",
       "      <th>2159</th>\n",
       "      <td>1648159315818</td>\n",
       "      <td>0.171894</td>\n",
       "      <td>2022-03-24</td>\n",
       "    </tr>\n",
       "    <tr>\n",
       "      <th>2160</th>\n",
       "      <td>1648159896000</td>\n",
       "      <td>0.171932</td>\n",
       "      <td>2022-03-24</td>\n",
       "    </tr>\n",
       "  </tbody>\n",
       "</table>\n",
       "<p>2161 rows × 3 columns</p>\n",
       "</div>"
      ],
      "text/plain": [
       "          TimeStamp     Price        Date\n",
       "0     1640387194752  0.241539  2021-12-24\n",
       "1     1640390438978  0.240917  2021-12-24\n",
       "2     1640394551080  0.243660  2021-12-24\n",
       "3     1640397842215  0.241057  2021-12-24\n",
       "4     1640401469974  0.241098  2021-12-24\n",
       "...             ...       ...         ...\n",
       "2156  1648148645842  0.170856  2022-03-24\n",
       "2157  1648152179497  0.171296  2022-03-24\n",
       "2158  1648155802841  0.170841  2022-03-24\n",
       "2159  1648159315818  0.171894  2022-03-24\n",
       "2160  1648159896000  0.171932  2022-03-24\n",
       "\n",
       "[2161 rows x 3 columns]"
      ]
     },
     "execution_count": 57,
     "metadata": {},
     "output_type": "execute_result"
    }
   ],
   "source": [
    "cg = CoinGeckoAPI() \n",
    "\n",
    "# This project has been completed using dogecoin information but this can be changed\n",
    "# Replace dogecoin with your preffered coin\n",
    "# You can also change currency \"CAD\" is being used for this reference\n",
    "dogecoin_data = cg.get_coin_market_chart_by_id(id = 'dogecoin', vs_currency = 'cad', days = 90)\n",
    "\n",
    "#converting dict to data frame\n",
    "\n",
    "dginfo = dogecoin_data[\"prices\"]\n",
    "dginfo\n",
    "df = pd.DataFrame(dginfo, columns=['TimeStamp', 'Price'])\n",
    "df\n",
    "\n",
    "#coverting timestamp to Date to relate price information\n",
    "\n",
    "df['Date'] = df[\"TimeStamp\"].apply(lambda d: datetime.date.fromtimestamp(d/1000.0))\n",
    "df"
   ]
  },
  {
   "cell_type": "markdown",
   "id": "49ab52d0",
   "metadata": {},
   "source": [
    "<b>Using above data, Now we will create graph based on Date and price, as you can see price is fluctuating multiple times a day in above df</b>"
   ]
  },
  {
   "cell_type": "code",
   "execution_count": 59,
   "id": "e318af3a",
   "metadata": {},
   "outputs": [
    {
     "data": {
      "application/vnd.plotly.v1+json": {
       "config": {
        "plotlyServerURL": "https://plot.ly"
       },
       "data": [
        {
         "close": [
          0.24188013380668938,
          0.23993178218355185,
          0.24479934247139115,
          0.23190104421769037,
          0.2273449259764169,
          0.2169189912673057,
          0.21878777188893078,
          0.21713854043647218,
          0.21849330748185963,
          0.2184010168551766,
          0.21764138022753812,
          0.21655954599539962,
          0.19894992252239338,
          0.19372853105585203,
          0.1978490164280544,
          0.19214607559875546,
          0.19179424701904474,
          0.18431485540859233,
          0.19256666851261114,
          0.20725599236488423,
          0.2215254192317262,
          0.2377237468768948,
          0.22699076616045352,
          0.2149094036205428,
          0.2108755981799814,
          0.20741286447880075,
          0.2059274329731438,
          0.1881232170644447,
          0.17873550143416425,
          0.17234213250419628,
          0.1755477928764918,
          0.17305812758861308,
          0.1842731123226699,
          0.17753150431020248,
          0.17989595381734844,
          0.18189712609102932,
          0.18123313264715815,
          0.17591091280283996,
          0.18217841873511,
          0.18176698116597645,
          0.17511105426212414,
          0.1753312118779832,
          0.18863824617832065,
          0.1895173892668169,
          0.2044663476831352,
          0.20990030453081837,
          0.1981577716123142,
          0.20015814130037604,
          0.19278666749016435,
          0.18518429476832104,
          0.18434465342823447,
          0.185359576561899,
          0.1892830116316198,
          0.1910726082828125,
          0.18894719651148598,
          0.17939435275827925,
          0.18066183138615144,
          0.177586747276085,
          0.17756720047936173,
          0.16102366680515698,
          0.16704598433451012,
          0.1499825014205971,
          0.15814821388659667,
          0.16441326468193374,
          0.15953807575620754,
          0.15830205588148738,
          0.16794682355476276,
          0.1715212055440423,
          0.1672792836889723,
          0.1605387903873728,
          0.156702080191697,
          0.15855035691471053,
          0.1517974977963794,
          0.15250059893201062,
          0.15637946400238384,
          0.1526129490407514,
          0.14833400299455596,
          0.14865300682141508,
          0.14778303278030752,
          0.1424445573319548,
          0.1451692613827777,
          0.14641294904017463,
          0.14893417736407513,
          0.14585066291558801,
          0.14996428377764962,
          0.15375409002861054,
          0.14924871915710605,
          0.1522261789870766,
          0.1539981671356751,
          0.1707448392266162,
          0.17193206440729641
         ],
         "high": [
          0.24365956967170274,
          0.24720122955300933,
          0.24620545335633776,
          0.24666064196723972,
          0.23330535138698985,
          0.22773257980571612,
          0.2247243190493355,
          0.22365614924685087,
          0.2203126145975462,
          0.22205510817902624,
          0.2203704027092459,
          0.2194538653991205,
          0.21706829460875537,
          0.2058109730773405,
          0.20027067449668548,
          0.19932803154680503,
          0.19479712826065915,
          0.19306256696603738,
          0.20156728838547802,
          0.20725599236488423,
          0.22440815403180048,
          0.24682510556418202,
          0.2407177364760259,
          0.22898308425723835,
          0.2162456286656682,
          0.21387132087137303,
          0.20870590420368068,
          0.21024997070969928,
          0.19319117755033519,
          0.18106224431530016,
          0.17863862379335518,
          0.17653673311767099,
          0.1842731123226699,
          0.19025380637870137,
          0.1829028563226536,
          0.1819322506042213,
          0.1839405200769252,
          0.1830797533198428,
          0.18217841873511,
          0.1822145343100016,
          0.18391299331048475,
          0.17621256690356502,
          0.18895542371031768,
          0.1910996189331931,
          0.2044663476831352,
          0.2135454604435431,
          0.21339221826729793,
          0.20340760977858724,
          0.20225464782437114,
          0.19568254423070885,
          0.1861501974698861,
          0.19980247686286187,
          0.1900960630028498,
          0.19311239868287078,
          0.19117601296376804,
          0.19006667496013643,
          0.18163529750250496,
          0.18536131789010674,
          0.1781503281757172,
          0.17927742815763717,
          0.16832147529315136,
          0.17197720408659833,
          0.15907453213729167,
          0.1651771381295924,
          0.16464323631945169,
          0.16348657380497095,
          0.1693452989265388,
          0.17352796981918256,
          0.17197742086868745,
          0.16888257401293524,
          0.16379405468186325,
          0.1600799615263393,
          0.15917620081004835,
          0.15511583666763396,
          0.15637946400238384,
          0.15853493795224372,
          0.1504274569280189,
          0.15015273579781577,
          0.14907447960945222,
          0.14801821148494193,
          0.14799431237001942,
          0.14641294904017463,
          0.14893417736407513,
          0.1505773824591046,
          0.1511543106543651,
          0.15633848963826358,
          0.1545375934071582,
          0.15256689708556817,
          0.1564292648847334,
          0.1707448392266162,
          0.17495409334483422
         ],
         "low": [
          0.2409172697031764,
          0.23993178218355185,
          0.24066249553191377,
          0.23190104421769037,
          0.22391607377577408,
          0.21523065482448006,
          0.2179036021536483,
          0.21111770099285418,
          0.21564381510345695,
          0.2166864072920861,
          0.2158646286807817,
          0.21255397461721434,
          0.19894992252239338,
          0.19372853105585203,
          0.1921279681771163,
          0.1861290711938169,
          0.18952537503328995,
          0.17992108749902383,
          0.18139283499778844,
          0.19135255916547467,
          0.2030176202876353,
          0.230022971042566,
          0.22658891681762916,
          0.2149094036205428,
          0.20891654855296232,
          0.20311068865765305,
          0.20066395535966725,
          0.18657913169908233,
          0.17696236639005242,
          0.15814590730123626,
          0.17080697333362632,
          0.1601164624506426,
          0.1686281200412966,
          0.17712651107282537,
          0.17623579577223042,
          0.1772328835267551,
          0.18113965132015358,
          0.1756421066275479,
          0.1745547617692488,
          0.1798877721885428,
          0.17429403334264676,
          0.17214329718444074,
          0.17544459614368882,
          0.18798453899802953,
          0.1864849089947573,
          0.1991689719714412,
          0.19617977505890088,
          0.19829591380224634,
          0.19258921813820873,
          0.183128680149166,
          0.18102619502543063,
          0.18392056250059863,
          0.184212918977502,
          0.18859144471228753,
          0.18632357813605963,
          0.17630518781766708,
          0.1759603261611031,
          0.17748804638579468,
          0.17390772573617197,
          0.16102366680515698,
          0.16060949672433464,
          0.1499825014205971,
          0.14221024321248277,
          0.15667144629142005,
          0.15953807575620754,
          0.15638172760836008,
          0.15782868942477152,
          0.16732002381127778,
          0.1670673458525445,
          0.16003124115907433,
          0.1553836669876311,
          0.1561693037959686,
          0.15156751812668715,
          0.1482131861658781,
          0.14954211880887042,
          0.15218841072448622,
          0.1475527041009259,
          0.1462443453304075,
          0.14667289828317354,
          0.14177333656394167,
          0.14251295509859424,
          0.14303699436464948,
          0.14374438250643592,
          0.14585066291558801,
          0.14483184172608496,
          0.14970376316752101,
          0.14854222308678175,
          0.14914810880252044,
          0.15326367927353549,
          0.15292984536897553,
          0.16888199651463934
         ],
         "open": [
          0.24153934564640633,
          0.2433516696957826,
          0.2413639082401361,
          0.24456277669222817,
          0.23071551794168527,
          0.2260596825448534,
          0.2179036021536483,
          0.21924903882078936,
          0.21613033039468385,
          0.2166864072920861,
          0.2175703726887041,
          0.21602249675146273,
          0.21589209895385522,
          0.19984123656608838,
          0.19388386231945454,
          0.1987138030686648,
          0.193681752320687,
          0.19306256696603738,
          0.18383946409698315,
          0.19263052710464473,
          0.21125924785807396,
          0.23496720467916413,
          0.2402846250564399,
          0.22839559196526915,
          0.2138404517464287,
          0.2117032253037445,
          0.2077233711084703,
          0.20628935878232663,
          0.19006813476691994,
          0.18106224431530016,
          0.17324904642878786,
          0.17335589372482121,
          0.16947931481351575,
          0.18601615361126983,
          0.1785320595775742,
          0.17917402857867606,
          0.18194099006450412,
          0.18287886404633552,
          0.17500306874700636,
          0.1816922729485063,
          0.18147968246533613,
          0.17563648662828274,
          0.17544459614368882,
          0.1897124603594472,
          0.18874917445485162,
          0.20141275224586166,
          0.21093048464130976,
          0.19924623837020625,
          0.1998873455394985,
          0.19311895765451892,
          0.18535400151304657,
          0.18392056250059863,
          0.18542290690898744,
          0.18859144471228753,
          0.19011664293774316,
          0.1879419240567894,
          0.17894632474207262,
          0.1807762663397643,
          0.1766630550204547,
          0.1791598653384214,
          0.16060949672433464,
          0.16788052500594156,
          0.1489712447018855,
          0.1575684207166569,
          0.16464323631945169,
          0.1588620073071078,
          0.1581044046537329,
          0.16878197728170657,
          0.17142824198390846,
          0.16697229398025046,
          0.16023377069908418,
          0.1561693037959686,
          0.1589008823077028,
          0.15160888217825655,
          0.15234204512203003,
          0.15656230743540167,
          0.14974897814028007,
          0.14786036415512196,
          0.14887131138111287,
          0.14801821148494193,
          0.14251295509859424,
          0.14417003440683537,
          0.14375671794274905,
          0.14859868466865642,
          0.14530470051194966,
          0.14970376316752101,
          0.1544465080611119,
          0.1505999182882704,
          0.15326367927353549,
          0.15342245374181218,
          0.17122228578708149
         ],
         "type": "candlestick",
         "x": [
          "2021-12-24",
          "2021-12-25",
          "2021-12-26",
          "2021-12-27",
          "2021-12-28",
          "2021-12-29",
          "2021-12-30",
          "2021-12-31",
          "2022-01-01",
          "2022-01-02",
          "2022-01-03",
          "2022-01-04",
          "2022-01-05",
          "2022-01-06",
          "2022-01-07",
          "2022-01-08",
          "2022-01-09",
          "2022-01-10",
          "2022-01-11",
          "2022-01-12",
          "2022-01-13",
          "2022-01-14",
          "2022-01-15",
          "2022-01-16",
          "2022-01-17",
          "2022-01-18",
          "2022-01-19",
          "2022-01-20",
          "2022-01-21",
          "2022-01-22",
          "2022-01-23",
          "2022-01-24",
          "2022-01-25",
          "2022-01-26",
          "2022-01-27",
          "2022-01-28",
          "2022-01-29",
          "2022-01-30",
          "2022-01-31",
          "2022-02-01",
          "2022-02-02",
          "2022-02-03",
          "2022-02-04",
          "2022-02-05",
          "2022-02-06",
          "2022-02-07",
          "2022-02-08",
          "2022-02-09",
          "2022-02-10",
          "2022-02-11",
          "2022-02-12",
          "2022-02-13",
          "2022-02-14",
          "2022-02-15",
          "2022-02-16",
          "2022-02-17",
          "2022-02-18",
          "2022-02-19",
          "2022-02-20",
          "2022-02-21",
          "2022-02-22",
          "2022-02-23",
          "2022-02-24",
          "2022-02-25",
          "2022-02-26",
          "2022-02-27",
          "2022-02-28",
          "2022-03-01",
          "2022-03-02",
          "2022-03-03",
          "2022-03-04",
          "2022-03-05",
          "2022-03-06",
          "2022-03-07",
          "2022-03-08",
          "2022-03-09",
          "2022-03-10",
          "2022-03-11",
          "2022-03-12",
          "2022-03-13",
          "2022-03-14",
          "2022-03-15",
          "2022-03-16",
          "2022-03-17",
          "2022-03-18",
          "2022-03-19",
          "2022-03-20",
          "2022-03-21",
          "2022-03-22",
          "2022-03-23",
          "2022-03-24"
         ]
        }
       ],
       "layout": {
        "template": {
         "data": {
          "bar": [
           {
            "error_x": {
             "color": "#2a3f5f"
            },
            "error_y": {
             "color": "#2a3f5f"
            },
            "marker": {
             "line": {
              "color": "#E5ECF6",
              "width": 0.5
             },
             "pattern": {
              "fillmode": "overlay",
              "size": 10,
              "solidity": 0.2
             }
            },
            "type": "bar"
           }
          ],
          "barpolar": [
           {
            "marker": {
             "line": {
              "color": "#E5ECF6",
              "width": 0.5
             },
             "pattern": {
              "fillmode": "overlay",
              "size": 10,
              "solidity": 0.2
             }
            },
            "type": "barpolar"
           }
          ],
          "carpet": [
           {
            "aaxis": {
             "endlinecolor": "#2a3f5f",
             "gridcolor": "white",
             "linecolor": "white",
             "minorgridcolor": "white",
             "startlinecolor": "#2a3f5f"
            },
            "baxis": {
             "endlinecolor": "#2a3f5f",
             "gridcolor": "white",
             "linecolor": "white",
             "minorgridcolor": "white",
             "startlinecolor": "#2a3f5f"
            },
            "type": "carpet"
           }
          ],
          "choropleth": [
           {
            "colorbar": {
             "outlinewidth": 0,
             "ticks": ""
            },
            "type": "choropleth"
           }
          ],
          "contour": [
           {
            "colorbar": {
             "outlinewidth": 0,
             "ticks": ""
            },
            "colorscale": [
             [
              0,
              "#0d0887"
             ],
             [
              0.1111111111111111,
              "#46039f"
             ],
             [
              0.2222222222222222,
              "#7201a8"
             ],
             [
              0.3333333333333333,
              "#9c179e"
             ],
             [
              0.4444444444444444,
              "#bd3786"
             ],
             [
              0.5555555555555556,
              "#d8576b"
             ],
             [
              0.6666666666666666,
              "#ed7953"
             ],
             [
              0.7777777777777778,
              "#fb9f3a"
             ],
             [
              0.8888888888888888,
              "#fdca26"
             ],
             [
              1,
              "#f0f921"
             ]
            ],
            "type": "contour"
           }
          ],
          "contourcarpet": [
           {
            "colorbar": {
             "outlinewidth": 0,
             "ticks": ""
            },
            "type": "contourcarpet"
           }
          ],
          "heatmap": [
           {
            "colorbar": {
             "outlinewidth": 0,
             "ticks": ""
            },
            "colorscale": [
             [
              0,
              "#0d0887"
             ],
             [
              0.1111111111111111,
              "#46039f"
             ],
             [
              0.2222222222222222,
              "#7201a8"
             ],
             [
              0.3333333333333333,
              "#9c179e"
             ],
             [
              0.4444444444444444,
              "#bd3786"
             ],
             [
              0.5555555555555556,
              "#d8576b"
             ],
             [
              0.6666666666666666,
              "#ed7953"
             ],
             [
              0.7777777777777778,
              "#fb9f3a"
             ],
             [
              0.8888888888888888,
              "#fdca26"
             ],
             [
              1,
              "#f0f921"
             ]
            ],
            "type": "heatmap"
           }
          ],
          "heatmapgl": [
           {
            "colorbar": {
             "outlinewidth": 0,
             "ticks": ""
            },
            "colorscale": [
             [
              0,
              "#0d0887"
             ],
             [
              0.1111111111111111,
              "#46039f"
             ],
             [
              0.2222222222222222,
              "#7201a8"
             ],
             [
              0.3333333333333333,
              "#9c179e"
             ],
             [
              0.4444444444444444,
              "#bd3786"
             ],
             [
              0.5555555555555556,
              "#d8576b"
             ],
             [
              0.6666666666666666,
              "#ed7953"
             ],
             [
              0.7777777777777778,
              "#fb9f3a"
             ],
             [
              0.8888888888888888,
              "#fdca26"
             ],
             [
              1,
              "#f0f921"
             ]
            ],
            "type": "heatmapgl"
           }
          ],
          "histogram": [
           {
            "marker": {
             "pattern": {
              "fillmode": "overlay",
              "size": 10,
              "solidity": 0.2
             }
            },
            "type": "histogram"
           }
          ],
          "histogram2d": [
           {
            "colorbar": {
             "outlinewidth": 0,
             "ticks": ""
            },
            "colorscale": [
             [
              0,
              "#0d0887"
             ],
             [
              0.1111111111111111,
              "#46039f"
             ],
             [
              0.2222222222222222,
              "#7201a8"
             ],
             [
              0.3333333333333333,
              "#9c179e"
             ],
             [
              0.4444444444444444,
              "#bd3786"
             ],
             [
              0.5555555555555556,
              "#d8576b"
             ],
             [
              0.6666666666666666,
              "#ed7953"
             ],
             [
              0.7777777777777778,
              "#fb9f3a"
             ],
             [
              0.8888888888888888,
              "#fdca26"
             ],
             [
              1,
              "#f0f921"
             ]
            ],
            "type": "histogram2d"
           }
          ],
          "histogram2dcontour": [
           {
            "colorbar": {
             "outlinewidth": 0,
             "ticks": ""
            },
            "colorscale": [
             [
              0,
              "#0d0887"
             ],
             [
              0.1111111111111111,
              "#46039f"
             ],
             [
              0.2222222222222222,
              "#7201a8"
             ],
             [
              0.3333333333333333,
              "#9c179e"
             ],
             [
              0.4444444444444444,
              "#bd3786"
             ],
             [
              0.5555555555555556,
              "#d8576b"
             ],
             [
              0.6666666666666666,
              "#ed7953"
             ],
             [
              0.7777777777777778,
              "#fb9f3a"
             ],
             [
              0.8888888888888888,
              "#fdca26"
             ],
             [
              1,
              "#f0f921"
             ]
            ],
            "type": "histogram2dcontour"
           }
          ],
          "mesh3d": [
           {
            "colorbar": {
             "outlinewidth": 0,
             "ticks": ""
            },
            "type": "mesh3d"
           }
          ],
          "parcoords": [
           {
            "line": {
             "colorbar": {
              "outlinewidth": 0,
              "ticks": ""
             }
            },
            "type": "parcoords"
           }
          ],
          "pie": [
           {
            "automargin": true,
            "type": "pie"
           }
          ],
          "scatter": [
           {
            "marker": {
             "colorbar": {
              "outlinewidth": 0,
              "ticks": ""
             }
            },
            "type": "scatter"
           }
          ],
          "scatter3d": [
           {
            "line": {
             "colorbar": {
              "outlinewidth": 0,
              "ticks": ""
             }
            },
            "marker": {
             "colorbar": {
              "outlinewidth": 0,
              "ticks": ""
             }
            },
            "type": "scatter3d"
           }
          ],
          "scattercarpet": [
           {
            "marker": {
             "colorbar": {
              "outlinewidth": 0,
              "ticks": ""
             }
            },
            "type": "scattercarpet"
           }
          ],
          "scattergeo": [
           {
            "marker": {
             "colorbar": {
              "outlinewidth": 0,
              "ticks": ""
             }
            },
            "type": "scattergeo"
           }
          ],
          "scattergl": [
           {
            "marker": {
             "colorbar": {
              "outlinewidth": 0,
              "ticks": ""
             }
            },
            "type": "scattergl"
           }
          ],
          "scattermapbox": [
           {
            "marker": {
             "colorbar": {
              "outlinewidth": 0,
              "ticks": ""
             }
            },
            "type": "scattermapbox"
           }
          ],
          "scatterpolar": [
           {
            "marker": {
             "colorbar": {
              "outlinewidth": 0,
              "ticks": ""
             }
            },
            "type": "scatterpolar"
           }
          ],
          "scatterpolargl": [
           {
            "marker": {
             "colorbar": {
              "outlinewidth": 0,
              "ticks": ""
             }
            },
            "type": "scatterpolargl"
           }
          ],
          "scatterternary": [
           {
            "marker": {
             "colorbar": {
              "outlinewidth": 0,
              "ticks": ""
             }
            },
            "type": "scatterternary"
           }
          ],
          "surface": [
           {
            "colorbar": {
             "outlinewidth": 0,
             "ticks": ""
            },
            "colorscale": [
             [
              0,
              "#0d0887"
             ],
             [
              0.1111111111111111,
              "#46039f"
             ],
             [
              0.2222222222222222,
              "#7201a8"
             ],
             [
              0.3333333333333333,
              "#9c179e"
             ],
             [
              0.4444444444444444,
              "#bd3786"
             ],
             [
              0.5555555555555556,
              "#d8576b"
             ],
             [
              0.6666666666666666,
              "#ed7953"
             ],
             [
              0.7777777777777778,
              "#fb9f3a"
             ],
             [
              0.8888888888888888,
              "#fdca26"
             ],
             [
              1,
              "#f0f921"
             ]
            ],
            "type": "surface"
           }
          ],
          "table": [
           {
            "cells": {
             "fill": {
              "color": "#EBF0F8"
             },
             "line": {
              "color": "white"
             }
            },
            "header": {
             "fill": {
              "color": "#C8D4E3"
             },
             "line": {
              "color": "white"
             }
            },
            "type": "table"
           }
          ]
         },
         "layout": {
          "annotationdefaults": {
           "arrowcolor": "#2a3f5f",
           "arrowhead": 0,
           "arrowwidth": 1
          },
          "autotypenumbers": "strict",
          "coloraxis": {
           "colorbar": {
            "outlinewidth": 0,
            "ticks": ""
           }
          },
          "colorscale": {
           "diverging": [
            [
             0,
             "#8e0152"
            ],
            [
             0.1,
             "#c51b7d"
            ],
            [
             0.2,
             "#de77ae"
            ],
            [
             0.3,
             "#f1b6da"
            ],
            [
             0.4,
             "#fde0ef"
            ],
            [
             0.5,
             "#f7f7f7"
            ],
            [
             0.6,
             "#e6f5d0"
            ],
            [
             0.7,
             "#b8e186"
            ],
            [
             0.8,
             "#7fbc41"
            ],
            [
             0.9,
             "#4d9221"
            ],
            [
             1,
             "#276419"
            ]
           ],
           "sequential": [
            [
             0,
             "#0d0887"
            ],
            [
             0.1111111111111111,
             "#46039f"
            ],
            [
             0.2222222222222222,
             "#7201a8"
            ],
            [
             0.3333333333333333,
             "#9c179e"
            ],
            [
             0.4444444444444444,
             "#bd3786"
            ],
            [
             0.5555555555555556,
             "#d8576b"
            ],
            [
             0.6666666666666666,
             "#ed7953"
            ],
            [
             0.7777777777777778,
             "#fb9f3a"
            ],
            [
             0.8888888888888888,
             "#fdca26"
            ],
            [
             1,
             "#f0f921"
            ]
           ],
           "sequentialminus": [
            [
             0,
             "#0d0887"
            ],
            [
             0.1111111111111111,
             "#46039f"
            ],
            [
             0.2222222222222222,
             "#7201a8"
            ],
            [
             0.3333333333333333,
             "#9c179e"
            ],
            [
             0.4444444444444444,
             "#bd3786"
            ],
            [
             0.5555555555555556,
             "#d8576b"
            ],
            [
             0.6666666666666666,
             "#ed7953"
            ],
            [
             0.7777777777777778,
             "#fb9f3a"
            ],
            [
             0.8888888888888888,
             "#fdca26"
            ],
            [
             1,
             "#f0f921"
            ]
           ]
          },
          "colorway": [
           "#636efa",
           "#EF553B",
           "#00cc96",
           "#ab63fa",
           "#FFA15A",
           "#19d3f3",
           "#FF6692",
           "#B6E880",
           "#FF97FF",
           "#FECB52"
          ],
          "font": {
           "color": "#2a3f5f"
          },
          "geo": {
           "bgcolor": "white",
           "lakecolor": "white",
           "landcolor": "#E5ECF6",
           "showlakes": true,
           "showland": true,
           "subunitcolor": "white"
          },
          "hoverlabel": {
           "align": "left"
          },
          "hovermode": "closest",
          "mapbox": {
           "style": "light"
          },
          "paper_bgcolor": "white",
          "plot_bgcolor": "#E5ECF6",
          "polar": {
           "angularaxis": {
            "gridcolor": "white",
            "linecolor": "white",
            "ticks": ""
           },
           "bgcolor": "#E5ECF6",
           "radialaxis": {
            "gridcolor": "white",
            "linecolor": "white",
            "ticks": ""
           }
          },
          "scene": {
           "xaxis": {
            "backgroundcolor": "#E5ECF6",
            "gridcolor": "white",
            "gridwidth": 2,
            "linecolor": "white",
            "showbackground": true,
            "ticks": "",
            "zerolinecolor": "white"
           },
           "yaxis": {
            "backgroundcolor": "#E5ECF6",
            "gridcolor": "white",
            "gridwidth": 2,
            "linecolor": "white",
            "showbackground": true,
            "ticks": "",
            "zerolinecolor": "white"
           },
           "zaxis": {
            "backgroundcolor": "#E5ECF6",
            "gridcolor": "white",
            "gridwidth": 2,
            "linecolor": "white",
            "showbackground": true,
            "ticks": "",
            "zerolinecolor": "white"
           }
          },
          "shapedefaults": {
           "line": {
            "color": "#2a3f5f"
           }
          },
          "ternary": {
           "aaxis": {
            "gridcolor": "white",
            "linecolor": "white",
            "ticks": ""
           },
           "baxis": {
            "gridcolor": "white",
            "linecolor": "white",
            "ticks": ""
           },
           "bgcolor": "#E5ECF6",
           "caxis": {
            "gridcolor": "white",
            "linecolor": "white",
            "ticks": ""
           }
          },
          "title": {
           "x": 0.05
          },
          "xaxis": {
           "automargin": true,
           "gridcolor": "white",
           "linecolor": "white",
           "ticks": "",
           "title": {
            "standoff": 15
           },
           "zerolinecolor": "white",
           "zerolinewidth": 2
          },
          "yaxis": {
           "automargin": true,
           "gridcolor": "white",
           "linecolor": "white",
           "ticks": "",
           "title": {
            "standoff": 15
           },
           "zerolinecolor": "white",
           "zerolinewidth": 2
          }
         }
        }
       }
      },
      "text/html": [
       "<div>                            <div id=\"78cf5f5a-8960-4995-901b-44a3caf87d09\" class=\"plotly-graph-div\" style=\"height:525px; width:100%;\"></div>            <script type=\"text/javascript\">                require([\"plotly\"], function(Plotly) {                    window.PLOTLYENV=window.PLOTLYENV || {};                                    if (document.getElementById(\"78cf5f5a-8960-4995-901b-44a3caf87d09\")) {                    Plotly.newPlot(                        \"78cf5f5a-8960-4995-901b-44a3caf87d09\",                        [{\"close\":[0.24188013380668938,0.23993178218355185,0.24479934247139115,0.23190104421769037,0.2273449259764169,0.2169189912673057,0.21878777188893078,0.21713854043647218,0.21849330748185963,0.2184010168551766,0.21764138022753812,0.21655954599539962,0.19894992252239338,0.19372853105585203,0.1978490164280544,0.19214607559875546,0.19179424701904474,0.18431485540859233,0.19256666851261114,0.20725599236488423,0.2215254192317262,0.2377237468768948,0.22699076616045352,0.2149094036205428,0.2108755981799814,0.20741286447880075,0.2059274329731438,0.1881232170644447,0.17873550143416425,0.17234213250419628,0.1755477928764918,0.17305812758861308,0.1842731123226699,0.17753150431020248,0.17989595381734844,0.18189712609102932,0.18123313264715815,0.17591091280283996,0.18217841873511,0.18176698116597645,0.17511105426212414,0.1753312118779832,0.18863824617832065,0.1895173892668169,0.2044663476831352,0.20990030453081837,0.1981577716123142,0.20015814130037604,0.19278666749016435,0.18518429476832104,0.18434465342823447,0.185359576561899,0.1892830116316198,0.1910726082828125,0.18894719651148598,0.17939435275827925,0.18066183138615144,0.177586747276085,0.17756720047936173,0.16102366680515698,0.16704598433451012,0.1499825014205971,0.15814821388659667,0.16441326468193374,0.15953807575620754,0.15830205588148738,0.16794682355476276,0.1715212055440423,0.1672792836889723,0.1605387903873728,0.156702080191697,0.15855035691471053,0.1517974977963794,0.15250059893201062,0.15637946400238384,0.1526129490407514,0.14833400299455596,0.14865300682141508,0.14778303278030752,0.1424445573319548,0.1451692613827777,0.14641294904017463,0.14893417736407513,0.14585066291558801,0.14996428377764962,0.15375409002861054,0.14924871915710605,0.1522261789870766,0.1539981671356751,0.1707448392266162,0.17193206440729641],\"high\":[0.24365956967170274,0.24720122955300933,0.24620545335633776,0.24666064196723972,0.23330535138698985,0.22773257980571612,0.2247243190493355,0.22365614924685087,0.2203126145975462,0.22205510817902624,0.2203704027092459,0.2194538653991205,0.21706829460875537,0.2058109730773405,0.20027067449668548,0.19932803154680503,0.19479712826065915,0.19306256696603738,0.20156728838547802,0.20725599236488423,0.22440815403180048,0.24682510556418202,0.2407177364760259,0.22898308425723835,0.2162456286656682,0.21387132087137303,0.20870590420368068,0.21024997070969928,0.19319117755033519,0.18106224431530016,0.17863862379335518,0.17653673311767099,0.1842731123226699,0.19025380637870137,0.1829028563226536,0.1819322506042213,0.1839405200769252,0.1830797533198428,0.18217841873511,0.1822145343100016,0.18391299331048475,0.17621256690356502,0.18895542371031768,0.1910996189331931,0.2044663476831352,0.2135454604435431,0.21339221826729793,0.20340760977858724,0.20225464782437114,0.19568254423070885,0.1861501974698861,0.19980247686286187,0.1900960630028498,0.19311239868287078,0.19117601296376804,0.19006667496013643,0.18163529750250496,0.18536131789010674,0.1781503281757172,0.17927742815763717,0.16832147529315136,0.17197720408659833,0.15907453213729167,0.1651771381295924,0.16464323631945169,0.16348657380497095,0.1693452989265388,0.17352796981918256,0.17197742086868745,0.16888257401293524,0.16379405468186325,0.1600799615263393,0.15917620081004835,0.15511583666763396,0.15637946400238384,0.15853493795224372,0.1504274569280189,0.15015273579781577,0.14907447960945222,0.14801821148494193,0.14799431237001942,0.14641294904017463,0.14893417736407513,0.1505773824591046,0.1511543106543651,0.15633848963826358,0.1545375934071582,0.15256689708556817,0.1564292648847334,0.1707448392266162,0.17495409334483422],\"low\":[0.2409172697031764,0.23993178218355185,0.24066249553191377,0.23190104421769037,0.22391607377577408,0.21523065482448006,0.2179036021536483,0.21111770099285418,0.21564381510345695,0.2166864072920861,0.2158646286807817,0.21255397461721434,0.19894992252239338,0.19372853105585203,0.1921279681771163,0.1861290711938169,0.18952537503328995,0.17992108749902383,0.18139283499778844,0.19135255916547467,0.2030176202876353,0.230022971042566,0.22658891681762916,0.2149094036205428,0.20891654855296232,0.20311068865765305,0.20066395535966725,0.18657913169908233,0.17696236639005242,0.15814590730123626,0.17080697333362632,0.1601164624506426,0.1686281200412966,0.17712651107282537,0.17623579577223042,0.1772328835267551,0.18113965132015358,0.1756421066275479,0.1745547617692488,0.1798877721885428,0.17429403334264676,0.17214329718444074,0.17544459614368882,0.18798453899802953,0.1864849089947573,0.1991689719714412,0.19617977505890088,0.19829591380224634,0.19258921813820873,0.183128680149166,0.18102619502543063,0.18392056250059863,0.184212918977502,0.18859144471228753,0.18632357813605963,0.17630518781766708,0.1759603261611031,0.17748804638579468,0.17390772573617197,0.16102366680515698,0.16060949672433464,0.1499825014205971,0.14221024321248277,0.15667144629142005,0.15953807575620754,0.15638172760836008,0.15782868942477152,0.16732002381127778,0.1670673458525445,0.16003124115907433,0.1553836669876311,0.1561693037959686,0.15156751812668715,0.1482131861658781,0.14954211880887042,0.15218841072448622,0.1475527041009259,0.1462443453304075,0.14667289828317354,0.14177333656394167,0.14251295509859424,0.14303699436464948,0.14374438250643592,0.14585066291558801,0.14483184172608496,0.14970376316752101,0.14854222308678175,0.14914810880252044,0.15326367927353549,0.15292984536897553,0.16888199651463934],\"open\":[0.24153934564640633,0.2433516696957826,0.2413639082401361,0.24456277669222817,0.23071551794168527,0.2260596825448534,0.2179036021536483,0.21924903882078936,0.21613033039468385,0.2166864072920861,0.2175703726887041,0.21602249675146273,0.21589209895385522,0.19984123656608838,0.19388386231945454,0.1987138030686648,0.193681752320687,0.19306256696603738,0.18383946409698315,0.19263052710464473,0.21125924785807396,0.23496720467916413,0.2402846250564399,0.22839559196526915,0.2138404517464287,0.2117032253037445,0.2077233711084703,0.20628935878232663,0.19006813476691994,0.18106224431530016,0.17324904642878786,0.17335589372482121,0.16947931481351575,0.18601615361126983,0.1785320595775742,0.17917402857867606,0.18194099006450412,0.18287886404633552,0.17500306874700636,0.1816922729485063,0.18147968246533613,0.17563648662828274,0.17544459614368882,0.1897124603594472,0.18874917445485162,0.20141275224586166,0.21093048464130976,0.19924623837020625,0.1998873455394985,0.19311895765451892,0.18535400151304657,0.18392056250059863,0.18542290690898744,0.18859144471228753,0.19011664293774316,0.1879419240567894,0.17894632474207262,0.1807762663397643,0.1766630550204547,0.1791598653384214,0.16060949672433464,0.16788052500594156,0.1489712447018855,0.1575684207166569,0.16464323631945169,0.1588620073071078,0.1581044046537329,0.16878197728170657,0.17142824198390846,0.16697229398025046,0.16023377069908418,0.1561693037959686,0.1589008823077028,0.15160888217825655,0.15234204512203003,0.15656230743540167,0.14974897814028007,0.14786036415512196,0.14887131138111287,0.14801821148494193,0.14251295509859424,0.14417003440683537,0.14375671794274905,0.14859868466865642,0.14530470051194966,0.14970376316752101,0.1544465080611119,0.1505999182882704,0.15326367927353549,0.15342245374181218,0.17122228578708149],\"x\":[\"2021-12-24\",\"2021-12-25\",\"2021-12-26\",\"2021-12-27\",\"2021-12-28\",\"2021-12-29\",\"2021-12-30\",\"2021-12-31\",\"2022-01-01\",\"2022-01-02\",\"2022-01-03\",\"2022-01-04\",\"2022-01-05\",\"2022-01-06\",\"2022-01-07\",\"2022-01-08\",\"2022-01-09\",\"2022-01-10\",\"2022-01-11\",\"2022-01-12\",\"2022-01-13\",\"2022-01-14\",\"2022-01-15\",\"2022-01-16\",\"2022-01-17\",\"2022-01-18\",\"2022-01-19\",\"2022-01-20\",\"2022-01-21\",\"2022-01-22\",\"2022-01-23\",\"2022-01-24\",\"2022-01-25\",\"2022-01-26\",\"2022-01-27\",\"2022-01-28\",\"2022-01-29\",\"2022-01-30\",\"2022-01-31\",\"2022-02-01\",\"2022-02-02\",\"2022-02-03\",\"2022-02-04\",\"2022-02-05\",\"2022-02-06\",\"2022-02-07\",\"2022-02-08\",\"2022-02-09\",\"2022-02-10\",\"2022-02-11\",\"2022-02-12\",\"2022-02-13\",\"2022-02-14\",\"2022-02-15\",\"2022-02-16\",\"2022-02-17\",\"2022-02-18\",\"2022-02-19\",\"2022-02-20\",\"2022-02-21\",\"2022-02-22\",\"2022-02-23\",\"2022-02-24\",\"2022-02-25\",\"2022-02-26\",\"2022-02-27\",\"2022-02-28\",\"2022-03-01\",\"2022-03-02\",\"2022-03-03\",\"2022-03-04\",\"2022-03-05\",\"2022-03-06\",\"2022-03-07\",\"2022-03-08\",\"2022-03-09\",\"2022-03-10\",\"2022-03-11\",\"2022-03-12\",\"2022-03-13\",\"2022-03-14\",\"2022-03-15\",\"2022-03-16\",\"2022-03-17\",\"2022-03-18\",\"2022-03-19\",\"2022-03-20\",\"2022-03-21\",\"2022-03-22\",\"2022-03-23\",\"2022-03-24\"],\"type\":\"candlestick\"}],                        {\"template\":{\"data\":{\"bar\":[{\"error_x\":{\"color\":\"#2a3f5f\"},\"error_y\":{\"color\":\"#2a3f5f\"},\"marker\":{\"line\":{\"color\":\"#E5ECF6\",\"width\":0.5},\"pattern\":{\"fillmode\":\"overlay\",\"size\":10,\"solidity\":0.2}},\"type\":\"bar\"}],\"barpolar\":[{\"marker\":{\"line\":{\"color\":\"#E5ECF6\",\"width\":0.5},\"pattern\":{\"fillmode\":\"overlay\",\"size\":10,\"solidity\":0.2}},\"type\":\"barpolar\"}],\"carpet\":[{\"aaxis\":{\"endlinecolor\":\"#2a3f5f\",\"gridcolor\":\"white\",\"linecolor\":\"white\",\"minorgridcolor\":\"white\",\"startlinecolor\":\"#2a3f5f\"},\"baxis\":{\"endlinecolor\":\"#2a3f5f\",\"gridcolor\":\"white\",\"linecolor\":\"white\",\"minorgridcolor\":\"white\",\"startlinecolor\":\"#2a3f5f\"},\"type\":\"carpet\"}],\"choropleth\":[{\"colorbar\":{\"outlinewidth\":0,\"ticks\":\"\"},\"type\":\"choropleth\"}],\"contour\":[{\"colorbar\":{\"outlinewidth\":0,\"ticks\":\"\"},\"colorscale\":[[0.0,\"#0d0887\"],[0.1111111111111111,\"#46039f\"],[0.2222222222222222,\"#7201a8\"],[0.3333333333333333,\"#9c179e\"],[0.4444444444444444,\"#bd3786\"],[0.5555555555555556,\"#d8576b\"],[0.6666666666666666,\"#ed7953\"],[0.7777777777777778,\"#fb9f3a\"],[0.8888888888888888,\"#fdca26\"],[1.0,\"#f0f921\"]],\"type\":\"contour\"}],\"contourcarpet\":[{\"colorbar\":{\"outlinewidth\":0,\"ticks\":\"\"},\"type\":\"contourcarpet\"}],\"heatmap\":[{\"colorbar\":{\"outlinewidth\":0,\"ticks\":\"\"},\"colorscale\":[[0.0,\"#0d0887\"],[0.1111111111111111,\"#46039f\"],[0.2222222222222222,\"#7201a8\"],[0.3333333333333333,\"#9c179e\"],[0.4444444444444444,\"#bd3786\"],[0.5555555555555556,\"#d8576b\"],[0.6666666666666666,\"#ed7953\"],[0.7777777777777778,\"#fb9f3a\"],[0.8888888888888888,\"#fdca26\"],[1.0,\"#f0f921\"]],\"type\":\"heatmap\"}],\"heatmapgl\":[{\"colorbar\":{\"outlinewidth\":0,\"ticks\":\"\"},\"colorscale\":[[0.0,\"#0d0887\"],[0.1111111111111111,\"#46039f\"],[0.2222222222222222,\"#7201a8\"],[0.3333333333333333,\"#9c179e\"],[0.4444444444444444,\"#bd3786\"],[0.5555555555555556,\"#d8576b\"],[0.6666666666666666,\"#ed7953\"],[0.7777777777777778,\"#fb9f3a\"],[0.8888888888888888,\"#fdca26\"],[1.0,\"#f0f921\"]],\"type\":\"heatmapgl\"}],\"histogram\":[{\"marker\":{\"pattern\":{\"fillmode\":\"overlay\",\"size\":10,\"solidity\":0.2}},\"type\":\"histogram\"}],\"histogram2d\":[{\"colorbar\":{\"outlinewidth\":0,\"ticks\":\"\"},\"colorscale\":[[0.0,\"#0d0887\"],[0.1111111111111111,\"#46039f\"],[0.2222222222222222,\"#7201a8\"],[0.3333333333333333,\"#9c179e\"],[0.4444444444444444,\"#bd3786\"],[0.5555555555555556,\"#d8576b\"],[0.6666666666666666,\"#ed7953\"],[0.7777777777777778,\"#fb9f3a\"],[0.8888888888888888,\"#fdca26\"],[1.0,\"#f0f921\"]],\"type\":\"histogram2d\"}],\"histogram2dcontour\":[{\"colorbar\":{\"outlinewidth\":0,\"ticks\":\"\"},\"colorscale\":[[0.0,\"#0d0887\"],[0.1111111111111111,\"#46039f\"],[0.2222222222222222,\"#7201a8\"],[0.3333333333333333,\"#9c179e\"],[0.4444444444444444,\"#bd3786\"],[0.5555555555555556,\"#d8576b\"],[0.6666666666666666,\"#ed7953\"],[0.7777777777777778,\"#fb9f3a\"],[0.8888888888888888,\"#fdca26\"],[1.0,\"#f0f921\"]],\"type\":\"histogram2dcontour\"}],\"mesh3d\":[{\"colorbar\":{\"outlinewidth\":0,\"ticks\":\"\"},\"type\":\"mesh3d\"}],\"parcoords\":[{\"line\":{\"colorbar\":{\"outlinewidth\":0,\"ticks\":\"\"}},\"type\":\"parcoords\"}],\"pie\":[{\"automargin\":true,\"type\":\"pie\"}],\"scatter\":[{\"marker\":{\"colorbar\":{\"outlinewidth\":0,\"ticks\":\"\"}},\"type\":\"scatter\"}],\"scatter3d\":[{\"line\":{\"colorbar\":{\"outlinewidth\":0,\"ticks\":\"\"}},\"marker\":{\"colorbar\":{\"outlinewidth\":0,\"ticks\":\"\"}},\"type\":\"scatter3d\"}],\"scattercarpet\":[{\"marker\":{\"colorbar\":{\"outlinewidth\":0,\"ticks\":\"\"}},\"type\":\"scattercarpet\"}],\"scattergeo\":[{\"marker\":{\"colorbar\":{\"outlinewidth\":0,\"ticks\":\"\"}},\"type\":\"scattergeo\"}],\"scattergl\":[{\"marker\":{\"colorbar\":{\"outlinewidth\":0,\"ticks\":\"\"}},\"type\":\"scattergl\"}],\"scattermapbox\":[{\"marker\":{\"colorbar\":{\"outlinewidth\":0,\"ticks\":\"\"}},\"type\":\"scattermapbox\"}],\"scatterpolar\":[{\"marker\":{\"colorbar\":{\"outlinewidth\":0,\"ticks\":\"\"}},\"type\":\"scatterpolar\"}],\"scatterpolargl\":[{\"marker\":{\"colorbar\":{\"outlinewidth\":0,\"ticks\":\"\"}},\"type\":\"scatterpolargl\"}],\"scatterternary\":[{\"marker\":{\"colorbar\":{\"outlinewidth\":0,\"ticks\":\"\"}},\"type\":\"scatterternary\"}],\"surface\":[{\"colorbar\":{\"outlinewidth\":0,\"ticks\":\"\"},\"colorscale\":[[0.0,\"#0d0887\"],[0.1111111111111111,\"#46039f\"],[0.2222222222222222,\"#7201a8\"],[0.3333333333333333,\"#9c179e\"],[0.4444444444444444,\"#bd3786\"],[0.5555555555555556,\"#d8576b\"],[0.6666666666666666,\"#ed7953\"],[0.7777777777777778,\"#fb9f3a\"],[0.8888888888888888,\"#fdca26\"],[1.0,\"#f0f921\"]],\"type\":\"surface\"}],\"table\":[{\"cells\":{\"fill\":{\"color\":\"#EBF0F8\"},\"line\":{\"color\":\"white\"}},\"header\":{\"fill\":{\"color\":\"#C8D4E3\"},\"line\":{\"color\":\"white\"}},\"type\":\"table\"}]},\"layout\":{\"annotationdefaults\":{\"arrowcolor\":\"#2a3f5f\",\"arrowhead\":0,\"arrowwidth\":1},\"autotypenumbers\":\"strict\",\"coloraxis\":{\"colorbar\":{\"outlinewidth\":0,\"ticks\":\"\"}},\"colorscale\":{\"diverging\":[[0,\"#8e0152\"],[0.1,\"#c51b7d\"],[0.2,\"#de77ae\"],[0.3,\"#f1b6da\"],[0.4,\"#fde0ef\"],[0.5,\"#f7f7f7\"],[0.6,\"#e6f5d0\"],[0.7,\"#b8e186\"],[0.8,\"#7fbc41\"],[0.9,\"#4d9221\"],[1,\"#276419\"]],\"sequential\":[[0.0,\"#0d0887\"],[0.1111111111111111,\"#46039f\"],[0.2222222222222222,\"#7201a8\"],[0.3333333333333333,\"#9c179e\"],[0.4444444444444444,\"#bd3786\"],[0.5555555555555556,\"#d8576b\"],[0.6666666666666666,\"#ed7953\"],[0.7777777777777778,\"#fb9f3a\"],[0.8888888888888888,\"#fdca26\"],[1.0,\"#f0f921\"]],\"sequentialminus\":[[0.0,\"#0d0887\"],[0.1111111111111111,\"#46039f\"],[0.2222222222222222,\"#7201a8\"],[0.3333333333333333,\"#9c179e\"],[0.4444444444444444,\"#bd3786\"],[0.5555555555555556,\"#d8576b\"],[0.6666666666666666,\"#ed7953\"],[0.7777777777777778,\"#fb9f3a\"],[0.8888888888888888,\"#fdca26\"],[1.0,\"#f0f921\"]]},\"colorway\":[\"#636efa\",\"#EF553B\",\"#00cc96\",\"#ab63fa\",\"#FFA15A\",\"#19d3f3\",\"#FF6692\",\"#B6E880\",\"#FF97FF\",\"#FECB52\"],\"font\":{\"color\":\"#2a3f5f\"},\"geo\":{\"bgcolor\":\"white\",\"lakecolor\":\"white\",\"landcolor\":\"#E5ECF6\",\"showlakes\":true,\"showland\":true,\"subunitcolor\":\"white\"},\"hoverlabel\":{\"align\":\"left\"},\"hovermode\":\"closest\",\"mapbox\":{\"style\":\"light\"},\"paper_bgcolor\":\"white\",\"plot_bgcolor\":\"#E5ECF6\",\"polar\":{\"angularaxis\":{\"gridcolor\":\"white\",\"linecolor\":\"white\",\"ticks\":\"\"},\"bgcolor\":\"#E5ECF6\",\"radialaxis\":{\"gridcolor\":\"white\",\"linecolor\":\"white\",\"ticks\":\"\"}},\"scene\":{\"xaxis\":{\"backgroundcolor\":\"#E5ECF6\",\"gridcolor\":\"white\",\"gridwidth\":2,\"linecolor\":\"white\",\"showbackground\":true,\"ticks\":\"\",\"zerolinecolor\":\"white\"},\"yaxis\":{\"backgroundcolor\":\"#E5ECF6\",\"gridcolor\":\"white\",\"gridwidth\":2,\"linecolor\":\"white\",\"showbackground\":true,\"ticks\":\"\",\"zerolinecolor\":\"white\"},\"zaxis\":{\"backgroundcolor\":\"#E5ECF6\",\"gridcolor\":\"white\",\"gridwidth\":2,\"linecolor\":\"white\",\"showbackground\":true,\"ticks\":\"\",\"zerolinecolor\":\"white\"}},\"shapedefaults\":{\"line\":{\"color\":\"#2a3f5f\"}},\"ternary\":{\"aaxis\":{\"gridcolor\":\"white\",\"linecolor\":\"white\",\"ticks\":\"\"},\"baxis\":{\"gridcolor\":\"white\",\"linecolor\":\"white\",\"ticks\":\"\"},\"bgcolor\":\"#E5ECF6\",\"caxis\":{\"gridcolor\":\"white\",\"linecolor\":\"white\",\"ticks\":\"\"}},\"title\":{\"x\":0.05},\"xaxis\":{\"automargin\":true,\"gridcolor\":\"white\",\"linecolor\":\"white\",\"ticks\":\"\",\"title\":{\"standoff\":15},\"zerolinecolor\":\"white\",\"zerolinewidth\":2},\"yaxis\":{\"automargin\":true,\"gridcolor\":\"white\",\"linecolor\":\"white\",\"ticks\":\"\",\"title\":{\"standoff\":15},\"zerolinecolor\":\"white\",\"zerolinewidth\":2}}}},                        {\"responsive\": true}                    ).then(function(){\n",
       "                            \n",
       "var gd = document.getElementById('78cf5f5a-8960-4995-901b-44a3caf87d09');\n",
       "var x = new MutationObserver(function (mutations, observer) {{\n",
       "        var display = window.getComputedStyle(gd).display;\n",
       "        if (!display || display === 'none') {{\n",
       "            console.log([gd, 'removed!']);\n",
       "            Plotly.purge(gd);\n",
       "            observer.disconnect();\n",
       "        }}\n",
       "}});\n",
       "\n",
       "// Listen for the removal of the full notebook cells\n",
       "var notebookContainer = gd.closest('#notebook-container');\n",
       "if (notebookContainer) {{\n",
       "    x.observe(notebookContainer, {childList: true});\n",
       "}}\n",
       "\n",
       "// Listen for the clearing of the current output cell\n",
       "var outputEl = gd.closest('.output');\n",
       "if (outputEl) {{\n",
       "    x.observe(outputEl, {childList: true});\n",
       "}}\n",
       "\n",
       "                        })                };                });            </script>        </div>"
      ]
     },
     "metadata": {},
     "output_type": "display_data"
    }
   ],
   "source": [
    "graph_data = df.groupby(df.Date, as_index = False).agg({\"Price\": ['min', 'max', 'first', 'last']})\n",
    "\n",
    "fig = go.Figure(data = [go.Candlestick(x = graph_data[\"Date\"],\n",
    "                                     open = graph_data[\"Price\"][\"first\"],\n",
    "                                     high = graph_data[\"Price\"][\"max\"],\n",
    "                                     low = graph_data[\"Price\"][\"min\"],\n",
    "                                     close = graph_data[\"Price\"][\"last\"]\n",
    "                                    )])\n",
    "\n",
    "fig.show()"
   ]
  },
  {
   "cell_type": "code",
   "execution_count": null,
   "id": "7e0e8495",
   "metadata": {},
   "outputs": [],
   "source": []
  },
  {
   "cell_type": "code",
   "execution_count": null,
   "id": "c36f9f12",
   "metadata": {},
   "outputs": [],
   "source": []
  }
 ],
 "metadata": {
  "kernelspec": {
   "display_name": "Python 3 (ipykernel)",
   "language": "python",
   "name": "python3"
  },
  "language_info": {
   "codemirror_mode": {
    "name": "ipython",
    "version": 3
   },
   "file_extension": ".py",
   "mimetype": "text/x-python",
   "name": "python",
   "nbconvert_exporter": "python",
   "pygments_lexer": "ipython3",
   "version": "3.9.7"
  }
 },
 "nbformat": 4,
 "nbformat_minor": 5
}
